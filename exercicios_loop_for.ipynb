{
  "nbformat": 4,
  "nbformat_minor": 0,
  "metadata": {
    "colab": {
      "provenance": []
    },
    "kernelspec": {
      "name": "python3",
      "display_name": "Python 3"
    },
    "language_info": {
      "name": "python"
    }
  },
  "cells": [
    {
      "cell_type": "markdown",
      "source": [
        "1 - Faça um programa que leia 5 números e informe o maior número."
      ],
      "metadata": {
        "id": "CxGMIM4698J5"
      }
    },
    {
      "cell_type": "code",
      "source": [
        "for i in range(5):\n",
        "  numero = float(input(\"digite o {}º numero: \".format(i+1)))\n",
        "  if numero > maior_numero:\n",
        "    maior_numero = numero\n",
        "\n",
        "  print(\"O maior numero digitado é: {}\".format(maior_numero))"
      ],
      "metadata": {
        "id": "vViEukDO_yXj"
      },
      "execution_count": null,
      "outputs": []
    },
    {
      "cell_type": "markdown",
      "source": [
        "2 - Faça um programa que verifique e mostre os números entre 1.000 e 2.000\n",
        "(inclusive) que, quando divididos por 11 produzam resto igual a 2"
      ],
      "metadata": {
        "id": "D79LAik2AU_G"
      }
    },
    {
      "cell_type": "code",
      "source": [
        "for numero in range(1000, 2001):\n",
        "    if numero % 11 == 2:\n",
        "        print(numero)"
      ],
      "metadata": {
        "id": "R7K_Fs_bAGY-"
      },
      "execution_count": null,
      "outputs": []
    },
    {
      "cell_type": "markdown",
      "source": [
        "3 - Faça um programa que leia 5 números e informe a soma e a média dos\n",
        "números."
      ],
      "metadata": {
        "id": "8oNc4Qk9BVhM"
      }
    },
    {
      "cell_type": "code",
      "source": [
        "soma = 0\n",
        "for i in range(5):\n",
        "  numero = int(input('Digite um número: '))\n",
        "  soma += numero\n",
        "media = soma/5\n",
        "print('A soma dos numeros digitados é: {}'.format(soma))\n",
        "print('A media doa numeros digitados é {}'.format(media))\n"
      ],
      "metadata": {
        "colab": {
          "base_uri": "https://localhost:8080/"
        },
        "id": "Oy0ymdxOBOGu",
        "outputId": "3ea4fe39-08e0-4d6b-9a15-0e05e72f0d43"
      },
      "execution_count": null,
      "outputs": [
        {
          "output_type": "stream",
          "name": "stdout",
          "text": [
            "Digite um número: 40\n",
            "Digite um número: 20\n",
            "Digite um número: 5\n",
            "Digite um número: 5\n",
            "Digite um número: 4\n",
            "A soma dos numeros digitados é: 74\n",
            "A media doa numeros digitados é 14.8\n"
          ]
        }
      ]
    },
    {
      "cell_type": "markdown",
      "source": [
        "4 - Faça um programa que receba um número e usando laços de repetição\n",
        "calcule e mostre a tabuada desse número.\n"
      ],
      "metadata": {
        "id": "7x4Xp0buTJg1"
      }
    },
    {
      "cell_type": "code",
      "source": [
        "numero = int(input(\"Digite um número para ver sua tabuada: \"))\n",
        "\n",
        "print(f\"Tabuada de {numero}:\")\n",
        "for contador in range(1, 11):\n",
        "  resultado = numero * contador\n",
        "  print(f\"{numero} x {contador} = {resultado}\")"
      ],
      "metadata": {
        "colab": {
          "base_uri": "https://localhost:8080/"
        },
        "id": "CGTr6FqdB0HY",
        "outputId": "dc6ed1a5-efd1-46f9-db4b-2e39e29f7e26"
      },
      "execution_count": null,
      "outputs": [
        {
          "output_type": "stream",
          "name": "stdout",
          "text": [
            "Digite um número para ver sua tabuada: 8\n",
            "Tabuada de 8:\n",
            "8 x 1 = 8\n",
            "8 x 2 = 16\n",
            "8 x 3 = 24\n",
            "8 x 4 = 32\n",
            "8 x 5 = 40\n",
            "8 x 6 = 48\n",
            "8 x 7 = 56\n",
            "8 x 8 = 64\n",
            "8 x 9 = 72\n",
            "8 x 10 = 80\n"
          ]
        }
      ]
    },
    {
      "cell_type": "markdown",
      "source": [
        "5 - Faça um programa que mostre as tabuadas dos números 1 a 10 usando laços de repetição:"
      ],
      "metadata": {
        "id": "U8REr6nEO7tu"
      }
    },
    {
      "cell_type": "code",
      "source": [
        "for i in range(1, 11):\n",
        "    print('Tabuada do {}:'.format(i))\n",
        "    for j in range(1, 11):\n",
        "        print('{} x {} = {}'.format(i, j, i*j))"
      ],
      "metadata": {
        "colab": {
          "base_uri": "https://localhost:8080/"
        },
        "id": "Kd20iw4mPOIs",
        "outputId": "99b33100-c896-4982-a1ef-dcef6d0614d2"
      },
      "execution_count": null,
      "outputs": [
        {
          "output_type": "stream",
          "name": "stdout",
          "text": [
            "Tabuada do 1:\n",
            "1 x 1 = 1\n",
            "1 x 2 = 2\n",
            "1 x 3 = 3\n",
            "1 x 4 = 4\n",
            "1 x 5 = 5\n",
            "1 x 6 = 6\n",
            "1 x 7 = 7\n",
            "1 x 8 = 8\n",
            "1 x 9 = 9\n",
            "1 x 10 = 10\n",
            "Tabuada do 2:\n",
            "2 x 1 = 2\n",
            "2 x 2 = 4\n",
            "2 x 3 = 6\n",
            "2 x 4 = 8\n",
            "2 x 5 = 10\n",
            "2 x 6 = 12\n",
            "2 x 7 = 14\n",
            "2 x 8 = 16\n",
            "2 x 9 = 18\n",
            "2 x 10 = 20\n",
            "Tabuada do 3:\n",
            "3 x 1 = 3\n",
            "3 x 2 = 6\n",
            "3 x 3 = 9\n",
            "3 x 4 = 12\n",
            "3 x 5 = 15\n",
            "3 x 6 = 18\n",
            "3 x 7 = 21\n",
            "3 x 8 = 24\n",
            "3 x 9 = 27\n",
            "3 x 10 = 30\n",
            "Tabuada do 4:\n",
            "4 x 1 = 4\n",
            "4 x 2 = 8\n",
            "4 x 3 = 12\n",
            "4 x 4 = 16\n",
            "4 x 5 = 20\n",
            "4 x 6 = 24\n",
            "4 x 7 = 28\n",
            "4 x 8 = 32\n",
            "4 x 9 = 36\n",
            "4 x 10 = 40\n",
            "Tabuada do 5:\n",
            "5 x 1 = 5\n",
            "5 x 2 = 10\n",
            "5 x 3 = 15\n",
            "5 x 4 = 20\n",
            "5 x 5 = 25\n",
            "5 x 6 = 30\n",
            "5 x 7 = 35\n",
            "5 x 8 = 40\n",
            "5 x 9 = 45\n",
            "5 x 10 = 50\n",
            "Tabuada do 6:\n",
            "6 x 1 = 6\n",
            "6 x 2 = 12\n",
            "6 x 3 = 18\n",
            "6 x 4 = 24\n",
            "6 x 5 = 30\n",
            "6 x 6 = 36\n",
            "6 x 7 = 42\n",
            "6 x 8 = 48\n",
            "6 x 9 = 54\n",
            "6 x 10 = 60\n",
            "Tabuada do 7:\n",
            "7 x 1 = 7\n",
            "7 x 2 = 14\n",
            "7 x 3 = 21\n",
            "7 x 4 = 28\n",
            "7 x 5 = 35\n",
            "7 x 6 = 42\n",
            "7 x 7 = 49\n",
            "7 x 8 = 56\n",
            "7 x 9 = 63\n",
            "7 x 10 = 70\n",
            "Tabuada do 8:\n",
            "8 x 1 = 8\n",
            "8 x 2 = 16\n",
            "8 x 3 = 24\n",
            "8 x 4 = 32\n",
            "8 x 5 = 40\n",
            "8 x 6 = 48\n",
            "8 x 7 = 56\n",
            "8 x 8 = 64\n",
            "8 x 9 = 72\n",
            "8 x 10 = 80\n",
            "Tabuada do 9:\n",
            "9 x 1 = 9\n",
            "9 x 2 = 18\n",
            "9 x 3 = 27\n",
            "9 x 4 = 36\n",
            "9 x 5 = 45\n",
            "9 x 6 = 54\n",
            "9 x 7 = 63\n",
            "9 x 8 = 72\n",
            "9 x 9 = 81\n",
            "9 x 10 = 90\n",
            "Tabuada do 10:\n",
            "10 x 1 = 10\n",
            "10 x 2 = 20\n",
            "10 x 3 = 30\n",
            "10 x 4 = 40\n",
            "10 x 5 = 50\n",
            "10 x 6 = 60\n",
            "10 x 7 = 70\n",
            "10 x 8 = 80\n",
            "10 x 9 = 90\n",
            "10 x 10 = 100\n"
          ]
        }
      ]
    },
    {
      "cell_type": "markdown",
      "source": [
        "6 - Faça um programa que imprima na tela os números de 1 a 20, um abaixo\n",
        "do outro. Depois modifique o programa para que ele mostre os números\n",
        "um ao lado do outro"
      ],
      "metadata": {
        "id": "kaw2qo-8USeO"
      }
    },
    {
      "cell_type": "code",
      "source": [
        "for i in range (1,21):\n",
        "  print(i)\n",
        "print(list(range(1,21)))"
      ],
      "metadata": {
        "colab": {
          "base_uri": "https://localhost:8080/"
        },
        "id": "WU6ydkIDT25L",
        "outputId": "3222efde-3bb7-4435-fb1d-71f3591b9e7c"
      },
      "execution_count": null,
      "outputs": [
        {
          "output_type": "stream",
          "name": "stdout",
          "text": [
            "1\n",
            "2\n",
            "3\n",
            "4\n",
            "5\n",
            "6\n",
            "7\n",
            "8\n",
            "9\n",
            "10\n",
            "11\n",
            "12\n",
            "13\n",
            "14\n",
            "15\n",
            "16\n",
            "17\n",
            "18\n",
            "19\n",
            "20\n",
            "[1, 2, 3, 4, 5, 6, 7, 8, 9, 10, 11, 12, 13, 14, 15, 16, 17, 18, 19, 20]\n"
          ]
        }
      ]
    },
    {
      "cell_type": "markdown",
      "source": [
        "7 - Faça um programa que imprima na tela apenas os números ímpares entre\n",
        "1 e 50"
      ],
      "metadata": {
        "id": "g6pnQ4HnXSrg"
      }
    },
    {
      "cell_type": "code",
      "source": [
        "print('Numeros impares: 1 a 50')\n",
        "for numero in range(1,51):\n",
        "  if numero % 2 != 0:\n",
        "    print(numero)"
      ],
      "metadata": {
        "colab": {
          "base_uri": "https://localhost:8080/"
        },
        "id": "AEyuMlmJWmxI",
        "outputId": "de2eb7e8-1431-4155-d256-95f445310dfd"
      },
      "execution_count": null,
      "outputs": [
        {
          "output_type": "stream",
          "name": "stdout",
          "text": [
            "Numeros impares: 1 a 50\n",
            "1\n",
            "3\n",
            "5\n",
            "7\n",
            "9\n",
            "11\n",
            "13\n",
            "15\n",
            "17\n",
            "19\n",
            "21\n",
            "23\n",
            "25\n",
            "27\n",
            "29\n",
            "31\n",
            "33\n",
            "35\n",
            "37\n",
            "39\n",
            "41\n",
            "43\n",
            "45\n",
            "47\n",
            "49\n"
          ]
        }
      ]
    },
    {
      "cell_type": "markdown",
      "source": [
        "8 - Faça um programa que receba dois números inteiros e gere os números\n",
        "inteiros que estão no intervalo compreendido por eles.\n"
      ],
      "metadata": {
        "id": "nOY6ZqMFZcQm"
      }
    },
    {
      "cell_type": "code",
      "source": [
        "numero1 = int(input('Informe o primeiro número: '))\n",
        "numero2 = int(input('Informe o segundo número: '))\n",
        "\n",
        "for contagem in range((numero1 +1), numero2):\n",
        "  print(contagem)"
      ],
      "metadata": {
        "colab": {
          "base_uri": "https://localhost:8080/"
        },
        "id": "-YNLVB3kZSwm",
        "outputId": "66ddb497-a2b2-4002-8eb0-318dbaa47e26"
      },
      "execution_count": null,
      "outputs": [
        {
          "output_type": "stream",
          "name": "stdout",
          "text": [
            "Informe o primeiro número: 80\n",
            "Informe o segundo número: 100\n",
            "81\n",
            "82\n",
            "83\n",
            "84\n",
            "85\n",
            "86\n",
            "87\n",
            "88\n",
            "89\n",
            "90\n",
            "91\n",
            "92\n",
            "93\n",
            "94\n",
            "95\n",
            "96\n",
            "97\n",
            "98\n",
            "99\n"
          ]
        }
      ]
    },
    {
      "cell_type": "markdown",
      "source": [
        "9 -  Uma loja deseja cadastrar 5 clientes e verificar se o faturamento da loja foi\n",
        "superior a loja B (faturamento = 54000). Se o faturamento atingir esse valor\n",
        "mostre na tela\n",
        "\n"
      ],
      "metadata": {
        "id": "t07K-updezkw"
      }
    },
    {
      "cell_type": "code",
      "source": [
        "faturamento_loja = 0\n",
        "for i in range(5):\n",
        "    nome_cliente = input(\"Digite o nome do cliente: \")\n",
        "    valor_compra = float(input(f\"Digite o valor da compra de {nome_cliente}: \"))\n",
        "    faturamento_loja += valor_compra\n",
        "\n",
        "print(\"Faturamento total da loja:\", faturamento_loja)\n",
        "\n",
        "if faturamento_loja > 54000:\n",
        "    print(\"O faturamento da loja foi superior a 54000.\")\n",
        "else:\n",
        "    print(\"O faturamento da loja não atingiu 54000.\")"
      ],
      "metadata": {
        "id": "qOG6iVJEetrQ",
        "colab": {
          "base_uri": "https://localhost:8080/"
        },
        "outputId": "7bf8b912-410a-4232-e1a6-260feda1a198"
      },
      "execution_count": null,
      "outputs": [
        {
          "output_type": "stream",
          "name": "stdout",
          "text": [
            "Digite o nome do cliente: costelinha\n",
            "Digite o valor da compra de costelinha: 1\n",
            "Digite o nome do cliente: ana rica\n",
            "Digite o valor da compra de ana rica: 50000000000000000000000000\n",
            "Digite o nome do cliente: presilinha\n",
            "Digite o valor da compra de presilinha: 50\n",
            "Digite o nome do cliente: arthur\n",
            "Digite o valor da compra de arthur: 100\n",
            "Digite o nome do cliente: dentucinha\n",
            "Digite o valor da compra de dentucinha: 0.50\n",
            "Faturamento total da loja: 5e+25\n",
            "O faturamento da loja foi superior a 54000.\n"
          ]
        }
      ]
    },
    {
      "cell_type": "markdown",
      "source": [
        "10 - Faça uma programa que peça 10 números inteiros, calcule e mostre a quantidade de números pares e a quantidade de números impares"
      ],
      "metadata": {
        "id": "khYqYJijORZx"
      }
    },
    {
      "cell_type": "code",
      "source": [
        "quantidade_pares = 0\n",
        "quantidade_impares = 0\n",
        "\n",
        "for i in range(10):\n",
        "    numero = int(input(\"Digite um número inteiro: \"))\n",
        "    if numero % 2 == 0:\n",
        "        quantidade_pares += 1\n",
        "    else:\n",
        "        quantidade_impares += 1\n",
        "\n",
        "print(\"Quantidade de números pares:\", quantidade_pares)\n",
        "print(\"Quantidade de números ímpares:\", quantidade_impares)"
      ],
      "metadata": {
        "id": "F2kaiCPBg7Ma",
        "colab": {
          "base_uri": "https://localhost:8080/"
        },
        "outputId": "70f5d16c-a98f-4433-e92b-316c237c955a"
      },
      "execution_count": null,
      "outputs": [
        {
          "output_type": "stream",
          "name": "stdout",
          "text": [
            "Digite um número inteiro: 89\n",
            "Digite um número inteiro: 53\n",
            "Digite um número inteiro: 45\n",
            "Digite um número inteiro: 11\n",
            "Digite um número inteiro: 2\n",
            "Digite um número inteiro: 8\n",
            "Digite um número inteiro: 41\n",
            "Digite um número inteiro: 25\n",
            "Digite um número inteiro: 26\n",
            "Digite um número inteiro: 34\n",
            "Quantidade de números pares: 4\n",
            "Quantidade de números ímpares: 6\n"
          ]
        }
      ]
    },
    {
      "cell_type": "markdown",
      "source": [
        "11 - Um funcionário de uma empresa recebe aumento salarial anualmente:\n",
        "\n",
        "Sabe-se que:\n",
        "\n",
        "Esse funcionário foi contratado em 1995, com salário inicial de 1.000,00R$;\n",
        "\n",
        "Em 1996 recebeu aumento de 1,5% sobre seu salário inicial;\n",
        "\n",
        "A partir de 1997 (inclusive), os aumentos salariais sempre correspondem ao dobro do percentual do ano anterior. Faça um programa que determine o salário atual desse funcionário. Após concluir isto, altere o programa permitindo que o usuário digite o salario inicial do funcionário."
      ],
      "metadata": {
        "id": "1V6onm8TRFnn"
      }
    },
    {
      "cell_type": "code",
      "source": [
        "salario_inicial = float(input(\"Digite o salário inicial do funcionário: \"))\n",
        "percentual_aumento = 0.015\n",
        "\n",
        "for ano_atual in range(1995, 2025):\n",
        "    salario_inicial += salario_inicial * percentual_aumento\n",
        "    percentual_aumento *= 0.2\n",
        "\n",
        "print(\"O salário atual do funcionário em 2023 é: R$ {:.0f}\".format(salario_inicial))"
      ],
      "metadata": {
        "colab": {
          "base_uri": "https://localhost:8080/"
        },
        "id": "PW-xI6aCQ7UJ",
        "outputId": "16cdb42f-f045-4658-e537-9c68ded7a972"
      },
      "execution_count": null,
      "outputs": [
        {
          "output_type": "stream",
          "name": "stdout",
          "text": [
            "Digite o salário inicial do funcionário: 4555\n",
            "O salário atual do funcionário em 2023 é: R$ 4641\n"
          ]
        }
      ]
    },
    {
      "cell_type": "markdown",
      "source": [
        "12 - Faça um programa que peça uma nota, entre zero e dez. Mostre uma mensagem caso o valor seja inválido e continue pedindo até que o usuário informe um valor válido."
      ],
      "metadata": {
        "id": "6NNsXPUcVs3P"
      }
    },
    {
      "cell_type": "code",
      "source": [
        "nota = -1\n",
        "for _ in range(3):\n",
        "    nota = float(input(\"Digite uma nota entre zero e dez: \"))\n",
        "    if 0 <= nota <= 10:\n",
        "        print(\"Nota válida:\", nota)\n",
        "        break\n",
        "    else:\n",
        "        print(\"Nota inválida. Tente novamente.\")\n",
        "else:\n",
        "    print(\"Número máximo de tentativas excedido. Encerrando o programa.\")"
      ],
      "metadata": {
        "colab": {
          "base_uri": "https://localhost:8080/"
        },
        "id": "iCS_pvaMT732",
        "outputId": "03db5041-b91f-4135-a9a0-edd4b59f0db2"
      },
      "execution_count": null,
      "outputs": [
        {
          "output_type": "stream",
          "name": "stdout",
          "text": [
            "Digite uma nota entre zero e dez: 89\n",
            "Nota inválida. Tente novamente.\n",
            "Digite uma nota entre zero e dez: 6\n",
            "Nota válida: 6.0\n"
          ]
        }
      ]
    },
    {
      "cell_type": "markdown",
      "source": [
        "13 - Uma loja tem uma política de descontos de acordo com o valor da compra do cliente. Os descontos começam acima dos R$ 500. A cada 100 reais acima dos R$500 o cliente ganha 1% de desconto cumulativo até 25%.\n",
        "\n",
        "Por exemplo: R$500 = 1% || R$600 = 2%...etc\n",
        "\n",
        "Faça um programa que  exiba essa tabela de descontos no seguinte formato:\n",
        "\n",
        "ValordaCompra - porcentagem de desconto - valor final"
      ],
      "metadata": {
        "id": "gw-fH6rHWnRg"
      }
    },
    {
      "cell_type": "code",
      "source": [
        "valor_inicial = 500\n",
        "valor_final = 1000\n",
        "porcentagem_desconto = 1\n",
        "\n",
        "for valor_compra in range(valor_inicial, valor_final + 100, 100):\n",
        "    desconto = porcentagem_desconto / 100 * (valor_compra - valor_inicial)\n",
        "    valor_final_com_desconto = valor_compra - desconto\n",
        "    print(f\"Valor da Compra: R${valor_compra:.2f} - Desconto: {porcentagem_desconto}% - Valor Final: R${valor_final_com_desconto:.2f}\")\n",
        "\n",
        "    if valor_compra > 500:\n",
        "        porcentagem_desconto += 1\n",
        "        if porcentagem_desconto > 25:\n",
        "            porcentagem_desconto = 25"
      ],
      "metadata": {
        "colab": {
          "base_uri": "https://localhost:8080/"
        },
        "id": "_Qs1Kh3rWfgu",
        "outputId": "d7739af0-7f4b-4b2a-bdfd-c1d0bf59cfa7"
      },
      "execution_count": null,
      "outputs": [
        {
          "output_type": "stream",
          "name": "stdout",
          "text": [
            "Valor da Compra: R$500.00 - Desconto: 1% - Valor Final: R$500.00\n",
            "Valor da Compra: R$600.00 - Desconto: 1% - Valor Final: R$599.00\n",
            "Valor da Compra: R$700.00 - Desconto: 2% - Valor Final: R$696.00\n",
            "Valor da Compra: R$800.00 - Desconto: 3% - Valor Final: R$791.00\n",
            "Valor da Compra: R$900.00 - Desconto: 4% - Valor Final: R$884.00\n",
            "Valor da Compra: R$1000.00 - Desconto: 5% - Valor Final: R$975.00\n"
          ]
        }
      ]
    },
    {
      "cell_type": "markdown",
      "source": [
        "14 - Faça um programa que receba a idade de 15 pessoas e que calcule e mostre:\n",
        "\n",
        "a) A quantidade de pessoas em cada faixa etária;\n",
        "\n",
        "b) A percentagem de pessoas na primeira e na última faixa etária, com relação ao total de pessoas:\n",
        "\n",
        "- Até 15 anos\n",
        "\n",
        "- De 16 a 30anos\n",
        "\n",
        "- De 31 a 45anos\n",
        "\n",
        "- De 46 a 60 anos\n",
        "\n",
        "- Acima de 61 anos"
      ],
      "metadata": {
        "id": "ljoE_hCl4x9R"
      }
    },
    {
      "cell_type": "code",
      "source": [
        "faixa_etaria_ate_15 = 0\n",
        "faixa_etaria_16_30 = 0\n",
        "faixa_etaria_31_45 = 0\n",
        "faixa_etaria_46_60 = 0\n",
        "faixa_etaria_acima_61 = 0\n",
        "\n",
        "for i in range(15):\n",
        "    idade = int(input(f\"Digite a idade da pessoa {i+1}: \"))\n",
        "\n",
        "    if idade <= 15:\n",
        "        faixa_etaria_ate_15 += 1\n",
        "    elif 16 <= idade <= 30:\n",
        "        faixa_etaria_16_30 += 1\n",
        "    elif 31 <= idade <= 45:\n",
        "        faixa_etaria_31_45 += 1\n",
        "    elif 46 <= idade <= 60:\n",
        "        faixa_etaria_46_60 += 1\n",
        "    else:\n",
        "        faixa_etaria_acima_61 += 1\n",
        "\n",
        "total_pessoas = (\n",
        "    faixa_etaria_ate_15\n",
        "    + faixa_etaria_16_30\n",
        "    + faixa_etaria_31_45\n",
        "    + faixa_etaria_46_60\n",
        "    + faixa_etaria_acima_61\n",
        ")\n",
        "percentual_primeira_faixa = (faixa_etaria_ate_15 / total_pessoas) * 100\n",
        "percentual_ultima_faixa = (faixa_etaria_acima_61 / total_pessoas) * 100\n",
        "\n",
        "print(\"Quantidade de pessoas em cada faixa etária:\")\n",
        "print(\"Até 15 anos:\", faixa_etaria_ate_15)\n",
        "print(\"De 16 a 30 anos:\", faixa_etaria_16_30)\n",
        "print(\"De 31 a 45 anos:\", faixa_etaria_31_45)\n",
        "print(\"De 46 a 60 anos:\", faixa_etaria_46_60)\n",
        "print(\"Acima de 61 anos:\", faixa_etaria_acima_61)\n",
        "\n",
        "print(\"\\nPercentagem de pessoas na primeira e na última faixa etária:\")\n",
        "print(\"Percentual na faixa até 15 anos:\", percentual_primeira_faixa, \"%\")\n",
        "print(\"Percentual na faixa acima de 61 anos:\", percentual_ultima_faixa, \"%\")"
      ],
      "metadata": {
        "colab": {
          "base_uri": "https://localhost:8080/"
        },
        "id": "ViFFy-P7bG44",
        "outputId": "4d7bbf37-f828-4a8c-dbc9-cad3587f877a"
      },
      "execution_count": null,
      "outputs": [
        {
          "output_type": "stream",
          "name": "stdout",
          "text": [
            "Digite a idade da pessoa 1: 7\n",
            "Digite a idade da pessoa 2: 56\n",
            "Digite a idade da pessoa 3: 10\n",
            "Digite a idade da pessoa 4: 23\n",
            "Digite a idade da pessoa 5: 25\n",
            "Digite a idade da pessoa 6: 13\n",
            "Digite a idade da pessoa 7: 86\n",
            "Digite a idade da pessoa 8: 45\n",
            "Digite a idade da pessoa 9: 25\n",
            "Digite a idade da pessoa 10: 11\n",
            "Digite a idade da pessoa 11: 33\n",
            "Digite a idade da pessoa 12: 45\n",
            "Digite a idade da pessoa 13: 5\n",
            "Digite a idade da pessoa 14: 4\n",
            "Digite a idade da pessoa 15: 2\n",
            "Quantidade de pessoas em cada faixa etária:\n",
            "Até 15 anos: 7\n",
            "De 16 a 30 anos: 3\n",
            "De 31 a 45 anos: 3\n",
            "De 46 a 60 anos: 1\n",
            "Acima de 61 anos: 1\n",
            "\n",
            "Percentagem de pessoas na primeira e na última faixa etária:\n",
            "Percentual na faixa até 15 anos: 46.666666666666664 %\n",
            "Percentual na faixa acima de 61 anos: 6.666666666666667 %\n"
          ]
        }
      ]
    },
    {
      "cell_type": "markdown",
      "source": [
        "15 - Faça um programa que peça dois números,base e expoente,calculee mostre o primeiro número elevado ao segundo número. Não utilize a função de potência da linguagem."
      ],
      "metadata": {
        "id": "2Z-ixB-IDMus"
      }
    },
    {
      "cell_type": "code",
      "source": [
        "base = int(input(\"Digite o número base: \"))\n",
        "expoente = int(input(\"Digite o expoente: \"))\n",
        "\n",
        "resultado = 1\n",
        "\n",
        "for _ in range(expoente):\n",
        "    resultado *= base\n",
        "\n",
        "print(f\"{base} elevado a {expoente} é igual a {resultado}\")"
      ],
      "metadata": {
        "colab": {
          "base_uri": "https://localhost:8080/"
        },
        "id": "ZOmN4T2OB1KK",
        "outputId": "3c405371-8266-49d6-9f49-47302714de50"
      },
      "execution_count": null,
      "outputs": [
        {
          "output_type": "stream",
          "name": "stdout",
          "text": [
            "Digite o número base: 3\n",
            "Digite o expoente: 6\n",
            "3 elevado a 6 é igual a 729\n"
          ]
        }
      ]
    },
    {
      "cell_type": "markdown",
      "source": [
        "16 - Faça um programa que mostre todos os primos entre 1 e N sendo N um número inteiro fornecido pelo usuário. O programa deverá mostrar também o número de divisões que ele executou para encontrar os números primos. Serão avaliados o funcionamento, o estilo e o número de testes (divisões) executados."
      ],
      "metadata": {
        "id": "gH9Y0k3QD8ju"
      }
    },
    {
      "cell_type": "code",
      "source": [
        "N = int(input(\"Digite um número inteiro maior que 1: \"))\n",
        "\n",
        "primos = []\n",
        "\n",
        "total_divisoes = 0\n",
        "for num in range(2, N+1):\n",
        "    e_primo = True\n",
        "\n",
        "    for i in range(2, int(num**0.5) + 1):\n",
        "        total_divisoes += 1\n",
        "        if num % i == 0:\n",
        "            e_primo = False\n",
        "            break\n",
        "\n",
        "    if e_primo:\n",
        "        primos.append(num)\n",
        "\n",
        "print(\"Números primos entre 1 e\", N, \":\", primos)\n",
        "print(\"Total de divisões executadas:\", total_divisoes)"
      ],
      "metadata": {
        "colab": {
          "base_uri": "https://localhost:8080/"
        },
        "id": "vmj9IplnDiIe",
        "outputId": "6f23b64b-8394-4a9b-cdc3-f60dea1a2869"
      },
      "execution_count": null,
      "outputs": [
        {
          "output_type": "stream",
          "name": "stdout",
          "text": [
            "Digite um número inteiro maior que 1: 9\n",
            "Números primos entre 1 e 9 : [2, 3, 5, 7]\n",
            "Total de divisões executadas: 7\n"
          ]
        }
      ]
    },
    {
      "cell_type": "code",
      "source": [],
      "metadata": {
        "id": "CNF-dltUEX2L"
      },
      "execution_count": null,
      "outputs": []
    }
  ]
}